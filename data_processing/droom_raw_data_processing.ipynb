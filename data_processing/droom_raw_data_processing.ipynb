{
 "cells": [
  {
   "cell_type": "code",
   "execution_count": 1,
   "metadata": {},
   "outputs": [],
   "source": [
    "import numpy as np\n",
    "import pandas as pd"
   ]
  },
  {
   "cell_type": "code",
   "execution_count": 2,
   "metadata": {},
   "outputs": [],
   "source": [
    "df = pd.read_csv('../data/droom/raw/items_droom_1.csv')"
   ]
  },
  {
   "cell_type": "code",
   "execution_count": 3,
   "metadata": {},
   "outputs": [],
   "source": [
    "dup = df.duplicated()\n",
    "df = df[~dup]"
   ]
  },
  {
   "cell_type": "code",
   "execution_count": 4,
   "metadata": {},
   "outputs": [
    {
     "data": {
      "text/plain": [
       "(509, 8)"
      ]
     },
     "execution_count": 4,
     "metadata": {},
     "output_type": "execute_result"
    }
   ],
   "source": [
    "df.shape"
   ]
  },
  {
   "cell_type": "code",
   "execution_count": 5,
   "metadata": {},
   "outputs": [
    {
     "data": {
      "text/html": [
       "<div>\n",
       "<style scoped>\n",
       "    .dataframe tbody tr th:only-of-type {\n",
       "        vertical-align: middle;\n",
       "    }\n",
       "\n",
       "    .dataframe tbody tr th {\n",
       "        vertical-align: top;\n",
       "    }\n",
       "\n",
       "    .dataframe thead th {\n",
       "        text-align: right;\n",
       "    }\n",
       "</style>\n",
       "<table border=\"1\" class=\"dataframe\">\n",
       "  <thead>\n",
       "    <tr style=\"text-align: right;\">\n",
       "      <th></th>\n",
       "      <th>_type</th>\n",
       "      <th>fuel</th>\n",
       "      <th>km_drove</th>\n",
       "      <th>location</th>\n",
       "      <th>model</th>\n",
       "      <th>owner</th>\n",
       "      <th>price</th>\n",
       "      <th>url</th>\n",
       "    </tr>\n",
       "  </thead>\n",
       "  <tbody>\n",
       "    <tr>\n",
       "      <td>0</td>\n",
       "      <td>DroomItem</td>\n",
       "      <td>Diesel,Diesel,Diesel,Diesel,Diesel,Diesel,Dies...</td>\n",
       "      <td>29,500 Km,1,26,000 Km,2,09,000 Km,12,000 Km,45...</td>\n",
       "      <td>Pune,Panchkula,Bharuch,Aurangabad,Chennai,Bang...</td>\n",
       "      <td>Toyota Etios Cross 1.4 GD 2019,Volkswagen Jett...</td>\n",
       "      <td>First Owner,Second Owner,First Owner,First Own...</td>\n",
       "      <td>\\n                                        , 7,...</td>\n",
       "      <td>https://droom.in/product/toyota-etios-cross-14...</td>\n",
       "    </tr>\n",
       "    <tr>\n",
       "      <td>2</td>\n",
       "      <td>DroomItem</td>\n",
       "      <td>Diesel,Diesel,Diesel,Diesel,Petrol,Petrol,Petr...</td>\n",
       "      <td>1,20,000 Km,23,000 Km,34,000 Km,35,000 Km,68,0...</td>\n",
       "      <td>Thane,Nagpur,Nagpur,Nagpur,Mumbai,Gurgaon,Delh...</td>\n",
       "      <td>Mercedes-Benz E-Class E 250 CDI CLASSIC 2011,V...</td>\n",
       "      <td>First Owner,First Owner,First Owner,First Owne...</td>\n",
       "      <td>\\n                                        , 11...</td>\n",
       "      <td>https://droom.in/product/mercedes-benz-e-class...</td>\n",
       "    </tr>\n",
       "  </tbody>\n",
       "</table>\n",
       "</div>"
      ],
      "text/plain": [
       "       _type                                               fuel  \\\n",
       "0  DroomItem  Diesel,Diesel,Diesel,Diesel,Diesel,Diesel,Dies...   \n",
       "2  DroomItem  Diesel,Diesel,Diesel,Diesel,Petrol,Petrol,Petr...   \n",
       "\n",
       "                                            km_drove  \\\n",
       "0  29,500 Km,1,26,000 Km,2,09,000 Km,12,000 Km,45...   \n",
       "2  1,20,000 Km,23,000 Km,34,000 Km,35,000 Km,68,0...   \n",
       "\n",
       "                                            location  \\\n",
       "0  Pune,Panchkula,Bharuch,Aurangabad,Chennai,Bang...   \n",
       "2  Thane,Nagpur,Nagpur,Nagpur,Mumbai,Gurgaon,Delh...   \n",
       "\n",
       "                                               model  \\\n",
       "0  Toyota Etios Cross 1.4 GD 2019,Volkswagen Jett...   \n",
       "2  Mercedes-Benz E-Class E 250 CDI CLASSIC 2011,V...   \n",
       "\n",
       "                                               owner  \\\n",
       "0  First Owner,Second Owner,First Owner,First Own...   \n",
       "2  First Owner,First Owner,First Owner,First Owne...   \n",
       "\n",
       "                                               price  \\\n",
       "0  \\n                                        , 7,...   \n",
       "2  \\n                                        , 11...   \n",
       "\n",
       "                                                 url  \n",
       "0  https://droom.in/product/toyota-etios-cross-14...  \n",
       "2  https://droom.in/product/mercedes-benz-e-class...  "
      ]
     },
     "execution_count": 5,
     "metadata": {},
     "output_type": "execute_result"
    }
   ],
   "source": [
    "df.head(2)"
   ]
  },
  {
   "cell_type": "code",
   "execution_count": 6,
   "metadata": {},
   "outputs": [
    {
     "data": {
      "text/html": [
       "<div>\n",
       "<style scoped>\n",
       "    .dataframe tbody tr th:only-of-type {\n",
       "        vertical-align: middle;\n",
       "    }\n",
       "\n",
       "    .dataframe tbody tr th {\n",
       "        vertical-align: top;\n",
       "    }\n",
       "\n",
       "    .dataframe thead th {\n",
       "        text-align: right;\n",
       "    }\n",
       "</style>\n",
       "<table border=\"1\" class=\"dataframe\">\n",
       "  <thead>\n",
       "    <tr style=\"text-align: right;\">\n",
       "      <th></th>\n",
       "      <th>fuel</th>\n",
       "      <th>km_drove</th>\n",
       "      <th>location</th>\n",
       "      <th>model</th>\n",
       "      <th>owner</th>\n",
       "      <th>price</th>\n",
       "      <th>url</th>\n",
       "    </tr>\n",
       "  </thead>\n",
       "  <tbody>\n",
       "    <tr>\n",
       "      <td>0</td>\n",
       "      <td>Diesel,Diesel,Diesel,Diesel,Diesel,Diesel,Dies...</td>\n",
       "      <td>29,500 Km,1,26,000 Km,2,09,000 Km,12,000 Km,45...</td>\n",
       "      <td>Pune,Panchkula,Bharuch,Aurangabad,Chennai,Bang...</td>\n",
       "      <td>Toyota Etios Cross 1.4 GD 2019,Volkswagen Jett...</td>\n",
       "      <td>First Owner,Second Owner,First Owner,First Own...</td>\n",
       "      <td>\\n                                        , 7,...</td>\n",
       "      <td>https://droom.in/product/toyota-etios-cross-14...</td>\n",
       "    </tr>\n",
       "  </tbody>\n",
       "</table>\n",
       "</div>"
      ],
      "text/plain": [
       "                                                fuel  \\\n",
       "0  Diesel,Diesel,Diesel,Diesel,Diesel,Diesel,Dies...   \n",
       "\n",
       "                                            km_drove  \\\n",
       "0  29,500 Km,1,26,000 Km,2,09,000 Km,12,000 Km,45...   \n",
       "\n",
       "                                            location  \\\n",
       "0  Pune,Panchkula,Bharuch,Aurangabad,Chennai,Bang...   \n",
       "\n",
       "                                               model  \\\n",
       "0  Toyota Etios Cross 1.4 GD 2019,Volkswagen Jett...   \n",
       "\n",
       "                                               owner  \\\n",
       "0  First Owner,Second Owner,First Owner,First Own...   \n",
       "\n",
       "                                               price  \\\n",
       "0  \\n                                        , 7,...   \n",
       "\n",
       "                                                 url  \n",
       "0  https://droom.in/product/toyota-etios-cross-14...  "
      ]
     },
     "execution_count": 6,
     "metadata": {},
     "output_type": "execute_result"
    }
   ],
   "source": [
    "df.drop('_type',axis=1,inplace=True)\n",
    "df.head(1)"
   ]
  },
  {
   "cell_type": "code",
   "execution_count": 7,
   "metadata": {},
   "outputs": [
    {
     "data": {
      "text/plain": [
       "Index(['fuel', 'km_drove', 'location', 'model', 'owner', 'price', 'url'], dtype='object')"
      ]
     },
     "execution_count": 7,
     "metadata": {},
     "output_type": "execute_result"
    }
   ],
   "source": [
    "df.columns"
   ]
  },
  {
   "cell_type": "code",
   "execution_count": 8,
   "metadata": {},
   "outputs": [],
   "source": [
    "def get_list(x):\n",
    "    \"\"\"\n",
    "        Extract data from fuel and create a list from string, splitting by (,). It can work with cells from fuel,\n",
    "        location, model, owner, and url columns.\n",
    "        \n",
    "        Args:\n",
    "            a comma separated string.\n",
    "        Return:\n",
    "            A list from the argument.\n",
    "    \"\"\"\n",
    "    x = x.split(',')\n",
    "#     print(len(x))\n",
    "    return x"
   ]
  },
  {
   "cell_type": "code",
   "execution_count": 9,
   "metadata": {},
   "outputs": [],
   "source": [
    "def get_km(x):\n",
    "    \"\"\"\n",
    "        Extract the km drove. \n",
    "        \n",
    "        Args:\n",
    "            A string, more likely an element from the km_drove\n",
    "        Returns:\n",
    "            A list of elements\n",
    "    \"\"\"\n",
    "    x = x.replace(',','') # as there is comma inside number also\n",
    "    x = x.lower().strip('km')\n",
    "    x = x.split('km')\n",
    "    return x"
   ]
  },
  {
   "cell_type": "code",
   "execution_count": 10,
   "metadata": {},
   "outputs": [],
   "source": [
    "def get_price(x):\n",
    "    \n",
    "    \"\"\"\n",
    "        Converts price string into price list.\n",
    "        \n",
    "        Args:\n",
    "            string, more preferably from price column\n",
    "        Returns:\n",
    "            A list of prices\n",
    "    \"\"\"\n",
    "    x = x.replace('\\n','')\n",
    "    x = x.replace(' ','')\n",
    "    x = x.replace(',,','A')\n",
    "    x = x.replace(',','')\n",
    "    x = x.split('A')\n",
    "    return x"
   ]
  },
  {
   "cell_type": "raw",
   "metadata": {},
   "source": [
    "import re\n",
    "x = df.iloc[0,5]\n",
    "x = x.replace('\\n','').strip()\n",
    "x = x.replace(' ','')\n",
    "# x = x.strip(',')\n",
    "# c = re.findall(r'(\\b[0-9]*(,[0-9]*)+\\b)', x, re.IGNORECASE)\n",
    "# # c = re.findall(r \"^[0-9](,[0-9])\", x, re.IGNORECASE)\n",
    "# c = [i[0] for i in c]\n",
    "# c\n",
    "x = x.replace(',,','A')\n",
    "x = x.replace(',','')\n",
    "x = x.split('A')\n",
    "len(x)"
   ]
  },
  {
   "cell_type": "code",
   "execution_count": 11,
   "metadata": {},
   "outputs": [
    {
     "data": {
      "text/plain": [
       "Index(['fuel', 'km_drove', 'location', 'model', 'owner', 'price', 'url'], dtype='object')"
      ]
     },
     "execution_count": 11,
     "metadata": {},
     "output_type": "execute_result"
    }
   ],
   "source": [
    "df2 = df.copy(deep=True)\n",
    "df2.columns"
   ]
  },
  {
   "cell_type": "code",
   "execution_count": 12,
   "metadata": {},
   "outputs": [],
   "source": [
    "df2['fuel'] = df2['fuel'].apply(get_list)\n",
    "df2['km_drove'] = df2['km_drove'].apply(get_km)\n",
    "df2['location'] = df2['location'].apply(get_list)\n",
    "df2['model'] = df2['model'].apply(get_list)\n",
    "df2['owner'] = df2['owner'].apply(get_list)\n",
    "df2['url'] = df2['url'].apply(get_list)\n",
    "df2['price'] = df2['price'].apply(get_price)"
   ]
  },
  {
   "cell_type": "code",
   "execution_count": 13,
   "metadata": {},
   "outputs": [
    {
     "data": {
      "text/html": [
       "<div>\n",
       "<style scoped>\n",
       "    .dataframe tbody tr th:only-of-type {\n",
       "        vertical-align: middle;\n",
       "    }\n",
       "\n",
       "    .dataframe tbody tr th {\n",
       "        vertical-align: top;\n",
       "    }\n",
       "\n",
       "    .dataframe thead th {\n",
       "        text-align: right;\n",
       "    }\n",
       "</style>\n",
       "<table border=\"1\" class=\"dataframe\">\n",
       "  <thead>\n",
       "    <tr style=\"text-align: right;\">\n",
       "      <th></th>\n",
       "      <th>fuel</th>\n",
       "      <th>km_drove</th>\n",
       "      <th>location</th>\n",
       "      <th>model</th>\n",
       "      <th>owner</th>\n",
       "      <th>price</th>\n",
       "      <th>url</th>\n",
       "    </tr>\n",
       "  </thead>\n",
       "  <tbody>\n",
       "    <tr>\n",
       "      <td>0</td>\n",
       "      <td>[Diesel, Diesel, Diesel, Diesel, Diesel, Diese...</td>\n",
       "      <td>[29500 , 126000 , 209000 , 12000 , 45100 , 320...</td>\n",
       "      <td>[Pune, Panchkula, Bharuch, Aurangabad, Chennai...</td>\n",
       "      <td>[Toyota Etios Cross 1.4 GD 2019, Volkswagen Je...</td>\n",
       "      <td>[First Owner, Second Owner, First Owner, First...</td>\n",
       "      <td>[700000, 400400, 300000, 2100000, 620000, 1200...</td>\n",
       "      <td>[https://droom.in/product/toyota-etios-cross-1...</td>\n",
       "    </tr>\n",
       "    <tr>\n",
       "      <td>2</td>\n",
       "      <td>[Diesel, Diesel, Diesel, Diesel, Petrol, Petro...</td>\n",
       "      <td>[120000 , 23000 , 34000 , 35000 , 68000 , 3200...</td>\n",
       "      <td>[Thane, Nagpur, Nagpur, Nagpur, Mumbai, Gurgao...</td>\n",
       "      <td>[Mercedes-Benz E-Class E 250 CDI CLASSIC 2011,...</td>\n",
       "      <td>[First Owner, First Owner, First Owner, First ...</td>\n",
       "      <td>[1175000, 2900000, 2200000, 2400000, 263675, 1...</td>\n",
       "      <td>[https://droom.in/product/mercedes-benz-e-clas...</td>\n",
       "    </tr>\n",
       "    <tr>\n",
       "      <td>3</td>\n",
       "      <td>[Diesel, Diesel, Diesel, Petrol, Petrol, Petro...</td>\n",
       "      <td>[27000 , 35000 , 37000 , 20000 , 55000 , 32000...</td>\n",
       "      <td>[Delhi, Hyderabad, Hyderabad, Delhi, Mumbai, G...</td>\n",
       "      <td>[Audi A4 35 TDI Premium + Sunroof 2014, Toyota...</td>\n",
       "      <td>[First Owner, First Owner, First Owner, First ...</td>\n",
       "      <td>[, 1492255, 2150000, 1950000, 1206000, 248750,...</td>\n",
       "      <td>[https://droom.in/product/audi-a4-35-tdi-premi...</td>\n",
       "    </tr>\n",
       "    <tr>\n",
       "      <td>4</td>\n",
       "      <td>[Diesel, Petrol, Petrol, Diesel, Petrol, Diese...</td>\n",
       "      <td>[57000 , 32000 , 58970 , 99000 , 45000 , 21500...</td>\n",
       "      <td>[Aurangabad, Delhi, Delhi, Aurangabad, Mumbai,...</td>\n",
       "      <td>[Mercedes-Benz C-Class C 220 CDI Style 2017, M...</td>\n",
       "      <td>[First Owner, Second Owner, First Owner, First...</td>\n",
       "      <td>[2900000, 3000000, 6723233, 2710000, 3000000, ...</td>\n",
       "      <td>[https://droom.in/product/mercedes-benz-c-clas...</td>\n",
       "    </tr>\n",
       "    <tr>\n",
       "      <td>5</td>\n",
       "      <td>[Diesel, Diesel, Petrol, Petrol + Cng, Petrol,...</td>\n",
       "      <td>[71000 , 65000 , 34692 , 59000 , 58000 , 12000...</td>\n",
       "      <td>[Delhi, Delhi, Gurgaon, Delhi, Delhi, Mumbai, ...</td>\n",
       "      <td>[Honda City VX(O) 1.5L i-DTEC Sunroof  2014, M...</td>\n",
       "      <td>[First Owner, First Owner, First Owner, First ...</td>\n",
       "      <td>[600000, 295500, 235000, 294400, 269700, 21000...</td>\n",
       "      <td>[https://droom.in/product/honda-city-vxo-15l-i...</td>\n",
       "    </tr>\n",
       "  </tbody>\n",
       "</table>\n",
       "</div>"
      ],
      "text/plain": [
       "                                                fuel  \\\n",
       "0  [Diesel, Diesel, Diesel, Diesel, Diesel, Diese...   \n",
       "2  [Diesel, Diesel, Diesel, Diesel, Petrol, Petro...   \n",
       "3  [Diesel, Diesel, Diesel, Petrol, Petrol, Petro...   \n",
       "4  [Diesel, Petrol, Petrol, Diesel, Petrol, Diese...   \n",
       "5  [Diesel, Diesel, Petrol, Petrol + Cng, Petrol,...   \n",
       "\n",
       "                                            km_drove  \\\n",
       "0  [29500 , 126000 , 209000 , 12000 , 45100 , 320...   \n",
       "2  [120000 , 23000 , 34000 , 35000 , 68000 , 3200...   \n",
       "3  [27000 , 35000 , 37000 , 20000 , 55000 , 32000...   \n",
       "4  [57000 , 32000 , 58970 , 99000 , 45000 , 21500...   \n",
       "5  [71000 , 65000 , 34692 , 59000 , 58000 , 12000...   \n",
       "\n",
       "                                            location  \\\n",
       "0  [Pune, Panchkula, Bharuch, Aurangabad, Chennai...   \n",
       "2  [Thane, Nagpur, Nagpur, Nagpur, Mumbai, Gurgao...   \n",
       "3  [Delhi, Hyderabad, Hyderabad, Delhi, Mumbai, G...   \n",
       "4  [Aurangabad, Delhi, Delhi, Aurangabad, Mumbai,...   \n",
       "5  [Delhi, Delhi, Gurgaon, Delhi, Delhi, Mumbai, ...   \n",
       "\n",
       "                                               model  \\\n",
       "0  [Toyota Etios Cross 1.4 GD 2019, Volkswagen Je...   \n",
       "2  [Mercedes-Benz E-Class E 250 CDI CLASSIC 2011,...   \n",
       "3  [Audi A4 35 TDI Premium + Sunroof 2014, Toyota...   \n",
       "4  [Mercedes-Benz C-Class C 220 CDI Style 2017, M...   \n",
       "5  [Honda City VX(O) 1.5L i-DTEC Sunroof  2014, M...   \n",
       "\n",
       "                                               owner  \\\n",
       "0  [First Owner, Second Owner, First Owner, First...   \n",
       "2  [First Owner, First Owner, First Owner, First ...   \n",
       "3  [First Owner, First Owner, First Owner, First ...   \n",
       "4  [First Owner, Second Owner, First Owner, First...   \n",
       "5  [First Owner, First Owner, First Owner, First ...   \n",
       "\n",
       "                                               price  \\\n",
       "0  [700000, 400400, 300000, 2100000, 620000, 1200...   \n",
       "2  [1175000, 2900000, 2200000, 2400000, 263675, 1...   \n",
       "3  [, 1492255, 2150000, 1950000, 1206000, 248750,...   \n",
       "4  [2900000, 3000000, 6723233, 2710000, 3000000, ...   \n",
       "5  [600000, 295500, 235000, 294400, 269700, 21000...   \n",
       "\n",
       "                                                 url  \n",
       "0  [https://droom.in/product/toyota-etios-cross-1...  \n",
       "2  [https://droom.in/product/mercedes-benz-e-clas...  \n",
       "3  [https://droom.in/product/audi-a4-35-tdi-premi...  \n",
       "4  [https://droom.in/product/mercedes-benz-c-clas...  \n",
       "5  [https://droom.in/product/honda-city-vxo-15l-i...  "
      ]
     },
     "execution_count": 13,
     "metadata": {},
     "output_type": "execute_result"
    }
   ],
   "source": [
    "df2.head()"
   ]
  },
  {
   "cell_type": "code",
   "execution_count": 14,
   "metadata": {},
   "outputs": [],
   "source": [
    "df3 = df2.copy(deep=True)"
   ]
  },
  {
   "cell_type": "code",
   "execution_count": 15,
   "metadata": {},
   "outputs": [],
   "source": [
    "for i in df3:\n",
    "    df3[i] = df2[i].apply(len)"
   ]
  },
  {
   "cell_type": "code",
   "execution_count": 16,
   "metadata": {},
   "outputs": [
    {
     "data": {
      "text/plain": [
       "Index(['fuel', 'km_drove', 'location', 'model', 'owner', 'price', 'url'], dtype='object')"
      ]
     },
     "execution_count": 16,
     "metadata": {},
     "output_type": "execute_result"
    }
   ],
   "source": [
    "df3.columns"
   ]
  },
  {
   "cell_type": "code",
   "execution_count": 17,
   "metadata": {},
   "outputs": [],
   "source": [
    "full_idx = df3[df3['fuel']==20].index"
   ]
  },
  {
   "cell_type": "code",
   "execution_count": 18,
   "metadata": {},
   "outputs": [
    {
     "data": {
      "text/plain": [
       "82"
      ]
     },
     "execution_count": 18,
     "metadata": {},
     "output_type": "execute_result"
    }
   ],
   "source": [
    "fuel = df3[df3['fuel'] != 20].index.tolist()\n",
    "km = df3[df3['km_drove'] != 20].index.tolist()\n",
    "loc = df3[df3['location'] != 20].index.tolist()\n",
    "mod = df3[df3['model'] != 20].index.tolist()\n",
    "own = df3[df3['owner'] != 20].index.tolist()\n",
    "price = df3[df3['price'] != 20].index.tolist()\n",
    "url = df3[df3['url'] != 20].index.tolist()\n",
    "idx_blank = fuel+km+loc+mod+own+price+url\n",
    "len(idx_blank)"
   ]
  },
  {
   "cell_type": "code",
   "execution_count": 19,
   "metadata": {},
   "outputs": [
    {
     "data": {
      "text/plain": [
       "(428, 7)"
      ]
     },
     "execution_count": 19,
     "metadata": {},
     "output_type": "execute_result"
    }
   ],
   "source": [
    "full_df = df2.drop(idx_blank)\n",
    "full_df.shape"
   ]
  },
  {
   "cell_type": "code",
   "execution_count": 20,
   "metadata": {},
   "outputs": [],
   "source": [
    "dict_d = {}\n",
    "for i in full_df:\n",
    "    dict_d[i] = [j for sub in full_df[i].tolist() for j in sub]"
   ]
  },
  {
   "cell_type": "code",
   "execution_count": 21,
   "metadata": {},
   "outputs": [
    {
     "name": "stdout",
     "output_type": "stream",
     "text": [
      "fuel: 8560\n",
      "km_drove: 8560\n",
      "location: 8560\n",
      "model: 8560\n",
      "owner: 8560\n",
      "price: 8560\n",
      "url: 8560\n"
     ]
    }
   ],
   "source": [
    "for i in dict_d.keys():\n",
    "    print(f\"{i}: {len(dict_d[i])}\")"
   ]
  },
  {
   "cell_type": "code",
   "execution_count": 22,
   "metadata": {},
   "outputs": [
    {
     "data": {
      "text/html": [
       "<div>\n",
       "<style scoped>\n",
       "    .dataframe tbody tr th:only-of-type {\n",
       "        vertical-align: middle;\n",
       "    }\n",
       "\n",
       "    .dataframe tbody tr th {\n",
       "        vertical-align: top;\n",
       "    }\n",
       "\n",
       "    .dataframe thead th {\n",
       "        text-align: right;\n",
       "    }\n",
       "</style>\n",
       "<table border=\"1\" class=\"dataframe\">\n",
       "  <thead>\n",
       "    <tr style=\"text-align: right;\">\n",
       "      <th></th>\n",
       "      <th>fuel</th>\n",
       "      <th>km_drove</th>\n",
       "      <th>location</th>\n",
       "      <th>model</th>\n",
       "      <th>owner</th>\n",
       "      <th>price</th>\n",
       "      <th>url</th>\n",
       "    </tr>\n",
       "  </thead>\n",
       "  <tbody>\n",
       "    <tr>\n",
       "      <td>0</td>\n",
       "      <td>Diesel</td>\n",
       "      <td>29500</td>\n",
       "      <td>Pune</td>\n",
       "      <td>Toyota Etios Cross 1.4 GD 2019</td>\n",
       "      <td>First Owner</td>\n",
       "      <td>700000</td>\n",
       "      <td>https://droom.in/product/toyota-etios-cross-14...</td>\n",
       "    </tr>\n",
       "    <tr>\n",
       "      <td>1</td>\n",
       "      <td>Diesel</td>\n",
       "      <td>126000</td>\n",
       "      <td>Panchkula</td>\n",
       "      <td>Volkswagen Jetta 2.0L TDI Comfortline 2010</td>\n",
       "      <td>Second Owner</td>\n",
       "      <td>400400</td>\n",
       "      <td>https://droom.in/product/volkswagen-jetta-20l-...</td>\n",
       "    </tr>\n",
       "    <tr>\n",
       "      <td>2</td>\n",
       "      <td>Diesel</td>\n",
       "      <td>209000</td>\n",
       "      <td>Bharuch</td>\n",
       "      <td>Tata Safari Storme LX 2013</td>\n",
       "      <td>First Owner</td>\n",
       "      <td>300000</td>\n",
       "      <td>https://droom.in/product/tata-safari-storme-lx...</td>\n",
       "    </tr>\n",
       "    <tr>\n",
       "      <td>3</td>\n",
       "      <td>Diesel</td>\n",
       "      <td>12000</td>\n",
       "      <td>Aurangabad</td>\n",
       "      <td>Jeep Compass Limited Plus 2.0 Diesel 4X2 2019</td>\n",
       "      <td>First Owner</td>\n",
       "      <td>2100000</td>\n",
       "      <td>https://droom.in/product/jeep-compass-limited-...</td>\n",
       "    </tr>\n",
       "    <tr>\n",
       "      <td>4</td>\n",
       "      <td>Diesel</td>\n",
       "      <td>45100</td>\n",
       "      <td>Chennai</td>\n",
       "      <td>Toyota Etios Liva VD Dual Tone 2017</td>\n",
       "      <td>First Owner</td>\n",
       "      <td>620000</td>\n",
       "      <td>https://droom.in/product/toyota-etios-liva-vd-...</td>\n",
       "    </tr>\n",
       "  </tbody>\n",
       "</table>\n",
       "</div>"
      ],
      "text/plain": [
       "     fuel km_drove    location                                          model  \\\n",
       "0  Diesel   29500         Pune                 Toyota Etios Cross 1.4 GD 2019   \n",
       "1  Diesel  126000    Panchkula     Volkswagen Jetta 2.0L TDI Comfortline 2010   \n",
       "2  Diesel  209000      Bharuch                     Tata Safari Storme LX 2013   \n",
       "3  Diesel   12000   Aurangabad  Jeep Compass Limited Plus 2.0 Diesel 4X2 2019   \n",
       "4  Diesel   45100      Chennai            Toyota Etios Liva VD Dual Tone 2017   \n",
       "\n",
       "          owner    price                                                url  \n",
       "0   First Owner   700000  https://droom.in/product/toyota-etios-cross-14...  \n",
       "1  Second Owner   400400  https://droom.in/product/volkswagen-jetta-20l-...  \n",
       "2   First Owner   300000  https://droom.in/product/tata-safari-storme-lx...  \n",
       "3   First Owner  2100000  https://droom.in/product/jeep-compass-limited-...  \n",
       "4   First Owner   620000  https://droom.in/product/toyota-etios-liva-vd-...  "
      ]
     },
     "execution_count": 22,
     "metadata": {},
     "output_type": "execute_result"
    }
   ],
   "source": [
    "data_df = pd.DataFrame(dict_d)\n",
    "data_df.head()"
   ]
  },
  {
   "cell_type": "code",
   "execution_count": 23,
   "metadata": {},
   "outputs": [
    {
     "data": {
      "text/plain": [
       "(8560, 7)"
      ]
     },
     "execution_count": 23,
     "metadata": {},
     "output_type": "execute_result"
    }
   ],
   "source": [
    "data_df.shape"
   ]
  },
  {
   "cell_type": "code",
   "execution_count": 24,
   "metadata": {},
   "outputs": [
    {
     "data": {
      "text/plain": [
       "((82, 7), (82, 7))"
      ]
     },
     "execution_count": 24,
     "metadata": {},
     "output_type": "execute_result"
    }
   ],
   "source": [
    "problematic_idx = df2.loc[idx_blank,:]\n",
    "prob_count = df3.loc[idx_blank, :]\n",
    "problematic_idx.shape, prob_count.shape"
   ]
  },
  {
   "cell_type": "code",
   "execution_count": 25,
   "metadata": {},
   "outputs": [],
   "source": [
    "price_fault_idx = prob_count[prob_count['price']==21].index"
   ]
  },
  {
   "cell_type": "code",
   "execution_count": 26,
   "metadata": {},
   "outputs": [],
   "source": [
    "price_fault = df2.loc[price_fault_idx,:]\n",
    "price_d = {}\n",
    "for i in price_fault:\n",
    "    if i != 'price':\n",
    "        price_d[i] = [j for sub in price_fault[i].tolist() for j in sub]\n",
    "    else:\n",
    "        l = [j for sub in price_fault[i].tolist() for j in sub]\n",
    "        l = [i for i in l if i != '']\n",
    "        price_d[i] = l"
   ]
  },
  {
   "cell_type": "code",
   "execution_count": 27,
   "metadata": {},
   "outputs": [
    {
     "name": "stdout",
     "output_type": "stream",
     "text": [
      "1340\n",
      "1340\n",
      "1340\n",
      "1340\n",
      "1340\n",
      "1340\n",
      "1340\n"
     ]
    }
   ],
   "source": [
    "for i in price_d.keys():\n",
    "    print(len(price_d[i]))"
   ]
  },
  {
   "cell_type": "code",
   "execution_count": 28,
   "metadata": {},
   "outputs": [],
   "source": [
    "price_df = pd.DataFrame(price_d)"
   ]
  },
  {
   "cell_type": "code",
   "execution_count": 29,
   "metadata": {},
   "outputs": [
    {
     "data": {
      "text/plain": [
       "((9900, 7), (1340, 7), (8560, 7))"
      ]
     },
     "execution_count": 29,
     "metadata": {},
     "output_type": "execute_result"
    }
   ],
   "source": [
    "full_df2 = data_df.append(price_df)\n",
    "full_df2.shape, price_df.shape, data_df.shape"
   ]
  },
  {
   "cell_type": "code",
   "execution_count": 108,
   "metadata": {},
   "outputs": [],
   "source": [
    "df_clean.to_csv('../data/droom/processed/droom_car_data.csv', index=False)"
   ]
  },
  {
   "cell_type": "code",
   "execution_count": 62,
   "metadata": {},
   "outputs": [],
   "source": [
    "full_df.to_csv('../data/droom/processed/full_data.csv', index=False)"
   ]
  },
  {
   "cell_type": "code",
   "execution_count": 31,
   "metadata": {},
   "outputs": [],
   "source": [
    "data_df.to_csv(\"../data/droom/processed/data.csv\", index=False)\n",
    "full_df2.to_csv(\"../data/droom/processed/data_full.csv\", index=False)"
   ]
  },
  {
   "cell_type": "code",
   "execution_count": 32,
   "metadata": {},
   "outputs": [
    {
     "data": {
      "text/plain": [
       "((8560, 7), (9900, 7))"
      ]
     },
     "execution_count": 32,
     "metadata": {},
     "output_type": "execute_result"
    }
   ],
   "source": [
    "data_df.shape, full_df2.shape"
   ]
  },
  {
   "cell_type": "code",
   "execution_count": 37,
   "metadata": {},
   "outputs": [],
   "source": [
    "l = data_df['model'].value_counts().index.tolist()\n",
    "model_df = pd.DataFrame()\n",
    "model_df['models'] = l\n",
    "model_df.to_csv(\"car_models.csv\", index=False)"
   ]
  },
  {
   "cell_type": "code",
   "execution_count": null,
   "metadata": {},
   "outputs": [],
   "source": []
  }
 ],
 "metadata": {
  "kernelspec": {
   "display_name": "Python 3",
   "language": "python",
   "name": "python3"
  },
  "language_info": {
   "codemirror_mode": {
    "name": "ipython",
    "version": 3
   },
   "file_extension": ".py",
   "mimetype": "text/x-python",
   "name": "python",
   "nbconvert_exporter": "python",
   "pygments_lexer": "ipython3",
   "version": "3.7.4"
  }
 },
 "nbformat": 4,
 "nbformat_minor": 2
}
